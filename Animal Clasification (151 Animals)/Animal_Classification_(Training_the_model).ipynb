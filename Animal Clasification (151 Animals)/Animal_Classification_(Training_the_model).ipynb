{
  "nbformat": 4,
  "nbformat_minor": 0,
  "metadata": {
    "colab": {
      "provenance": []
    },
    "kernelspec": {
      "name": "python3",
      "display_name": "Python 3"
    },
    "language_info": {
      "name": "python"
    }
  },
  "cells": [
    {
      "cell_type": "code",
      "execution_count": 1,
      "metadata": {
        "id": "yMQuVp6uuE1m"
      },
      "outputs": [],
      "source": [
        "import matplotlib.pyplot as plt\n",
        "import numpy as np\n",
        "import PIL\n",
        "import tensorflow as tf\n",
        "\n",
        "from tensorflow import keras\n",
        "from tensorflow.keras import layers\n",
        "from tensorflow.keras.models import Sequential\n"
      ]
    },
    {
      "cell_type": "code",
      "source": [
        "import patoolib\n",
        "import pathlib"
      ],
      "metadata": {
        "id": "-lZ4AzH1u8kH"
      },
      "execution_count": 5,
      "outputs": []
    },
    {
      "cell_type": "code",
      "source": [
        "#patoolib.extract_archive(\"151_animals_classification_dataset.zip\")\n",
        "data_dir = pathlib.Path(\"/content/151_animals_classification_dataset/dataset/dataset\")"
      ],
      "metadata": {
        "id": "JMLrY747vDz0"
      },
      "execution_count": 18,
      "outputs": []
    },
    {
      "cell_type": "code",
      "source": [
        "print(\"Total Images: \",len(list(data_dir.glob('*/*.jpg'))))"
      ],
      "metadata": {
        "colab": {
          "base_uri": "https://localhost:8080/"
        },
        "id": "yoytnII-wyp6",
        "outputId": "ad9ea497-4178-4ac6-db4b-d845e915075f"
      },
      "execution_count": 19,
      "outputs": [
        {
          "output_type": "stream",
          "name": "stdout",
          "text": [
            "Total Images:  6270\n"
          ]
        }
      ]
    },
    {
      "cell_type": "code",
      "source": [
        "batch_size = 32\n",
        "img_height = 224\n",
        "img_width = 224"
      ],
      "metadata": {
        "id": "ZQSsLA-zxjqd"
      },
      "execution_count": 20,
      "outputs": []
    },
    {
      "cell_type": "code",
      "source": [
        "train_ds = tf.keras.utils.image_dataset_from_directory(\n",
        "  data_dir,\n",
        "  validation_split=0.2,\n",
        "  subset=\"training\",\n",
        "  seed=123,\n",
        "  image_size=(img_height, img_width),\n",
        "  batch_size=batch_size)"
      ],
      "metadata": {
        "colab": {
          "base_uri": "https://localhost:8080/"
        },
        "id": "Hdm-jPVSyy8B",
        "outputId": "3550c4a6-23d2-4562-dcd8-55ca7d3e3e70"
      },
      "execution_count": 21,
      "outputs": [
        {
          "output_type": "stream",
          "name": "stdout",
          "text": [
            "Found 6270 files belonging to 151 classes.\n",
            "Using 5016 files for training.\n"
          ]
        }
      ]
    },
    {
      "cell_type": "code",
      "source": [
        "val_ds = tf.keras.utils.image_dataset_from_directory(\n",
        "  data_dir,\n",
        "  validation_split=0.2,\n",
        "  subset=\"validation\",\n",
        "  seed=123,\n",
        "  image_size=(img_height, img_width),\n",
        "  batch_size=batch_size)"
      ],
      "metadata": {
        "colab": {
          "base_uri": "https://localhost:8080/"
        },
        "id": "2XSLtTuby4TF",
        "outputId": "adc798bb-84dd-4b6e-b1bd-7fc708c2ca03"
      },
      "execution_count": 22,
      "outputs": [
        {
          "output_type": "stream",
          "name": "stdout",
          "text": [
            "Found 6270 files belonging to 151 classes.\n",
            "Using 1254 files for validation.\n"
          ]
        }
      ]
    },
    {
      "cell_type": "code",
      "source": [
        "class_names = train_ds.class_names\n",
        "print(class_names)"
      ],
      "metadata": {
        "colab": {
          "base_uri": "https://localhost:8080/"
        },
        "id": "At3JkSz6y7tI",
        "outputId": "1128eed6-0179-4216-e3ae-ca02639ce24b"
      },
      "execution_count": 23,
      "outputs": [
        {
          "output_type": "stream",
          "name": "stdout",
          "text": [
            "['acinonyx-jubatus', 'aethia-cristatella', 'agalychnis-callidryas', 'agkistrodon-contortrix', 'ailuropoda-melanoleuca', 'ailurus-fulgens', 'alces-alces', 'anas-platyrhynchos', 'ankylosaurus-magniventris', 'apis-mellifera', 'aptenodytes-forsteri', 'aquila-chrysaetos', 'ara-macao', 'architeuthis-dux', 'ardea-herodias', 'balaenoptera-musculus', 'betta-splendens', 'bison-bison', 'bos-gaurus', 'bos-taurus', 'bradypus-variegatus', 'branta-canadensis', 'canis-lupus', 'canis-lupus-familiaris', 'carcharodon-carcharias', 'cardinalis-cardinalis', 'cathartes-aura', 'centrochelys-sulcata', 'centruroides-vittatus', 'ceratitis-capitata', 'ceratotherium-simum', 'chelonia-mydas', 'chrysemys-picta', 'circus-hudsonius', 'codium-fragile', 'coelacanthiformes', 'colaptes-auratus', 'connochaetes-gnou', 'correlophus-ciliatus', 'crocodylus-niloticus', 'crotalus-atrox', 'crotophaga-sulcirostris', 'cryptoprocta-ferox', 'cyanocitta-cristata', 'danaus-plexippus', 'dasypus-novemcinctus', 'delphinapterus-leucas', 'dendrobatidae', 'dermochelys-coriacea', 'desmodus-rotundus', 'diplodocus', 'dugong-dugon', 'eidolon-helvum', 'enhydra-lutris', 'enteroctopus-dofleini', 'equus-caballus', 'equus-quagga', 'eudocimus-albus', 'eunectes-murinus', 'falco-peregrinus', 'felis-catus', 'formicidae', 'gallus-gallus-domesticus', 'gavialis-gangeticus', 'geococcyx-californianus', 'giraffa-camelopardalis', 'gorilla-gorilla', 'haliaeetus-leucocephalus', 'hapalochlaena-maculosa', 'heloderma-suspectum', 'heterocera', 'hippopotamus-amphibius', 'homo-sapiens', 'hydrurga-leptonyx', 'icterus-galbula', 'icterus-gularis', 'icterus-spurius', 'iguana-iguana', 'iguanodon-bernissartensis', 'inia-geoffrensis', 'lampropeltis-triangulum', 'lemur-catta', 'lepus-americanus', 'loxodonta-africana', 'macropus-giganteus', 'malayopython-reticulatus', 'mammuthus-primigeniu', 'martes-americana', 'megaptera-novaeangliae', 'melanerpes-carolinus', 'mellisuga-helenae', 'mergus-serrator', 'mimus-polyglottos', 'monodon-monoceros', 'musca-domestica', 'odobenus-rosmarus', 'okapia-johnstoni', 'ophiophagus-hannah', 'orcinus-orca', 'ornithorhynchus-anatinus', 'ovis-aries', 'ovis-canadensis', 'panthera-leo', 'panthera-onca', 'panthera-pardus', 'panthera-tigris', 'pantherophis-alleghaniensis', 'pantherophis-guttatus', 'papilio-glaucus', 'passerina-ciris', 'pavo-cristatus', 'periplaneta-americana', 'phascolarctos-cinereus', 'phoebetria-fusca', 'phoenicopterus-ruber', 'phyllobates-terribilis', 'physalia-physalis', 'physeter-macrocephalus', 'poecile-atricapillus', 'pongo-abelii', 'procyon-lotor', 'pteranodon-longiceps', 'pterois-mombasae', 'pterois-volitans', 'puma-concolor', 'rattus-rattus', 'rusa-unicolor', 'salmo-salar', 'sciurus-carolinensis', 'smilodon-populator', 'spheniscus-demersus', 'sphyrna-mokarran', 'spinosaurus-aegyptiacus', 'stegosaurus-stenops', 'struthio-camelus', 'tapirus', 'tarsius-pumilus', 'taurotragus-oryx', 'telmatobufo-bullocki', 'thryothorus-ludovicianus', 'triceratops-horridus', 'trilobita', 'turdus-migratorius', 'tursiops-truncatus', 'tyrannosaurus-rex', 'tyrannus-tyrannus', 'ursus-arctos-horribilis', 'ursus-maritimus', 'varanus-komodoensis', 'vulpes-vulpes', 'vultur-gryphus']\n"
          ]
        }
      ]
    },
    {
      "cell_type": "code",
      "source": [
        "for image_batch, labels_batch in train_ds:\n",
        "  print(image_batch.shape)\n",
        "  print(labels_batch.shape)\n",
        "  break"
      ],
      "metadata": {
        "colab": {
          "base_uri": "https://localhost:8080/"
        },
        "id": "R6ezmeH0y-yX",
        "outputId": "6ba4519e-6753-44b7-876d-5a3e70ebb136"
      },
      "execution_count": 24,
      "outputs": [
        {
          "output_type": "stream",
          "name": "stdout",
          "text": [
            "(32, 224, 224, 3)\n",
            "(32,)\n"
          ]
        }
      ]
    },
    {
      "cell_type": "code",
      "source": [
        "AUTOTUNE = tf.data.AUTOTUNE\n",
        "\n",
        "train_ds = train_ds.cache().shuffle(1000).prefetch(buffer_size=AUTOTUNE)\n",
        "val_ds = val_ds.cache().prefetch(buffer_size=AUTOTUNE)"
      ],
      "metadata": {
        "id": "8DD3DmHwzF03"
      },
      "execution_count": 25,
      "outputs": []
    },
    {
      "cell_type": "code",
      "source": [
        "normalization_layer = layers.Rescaling(1./255)\n",
        "normalized_ds = train_ds.map(lambda x, y: (normalization_layer(x), y))\n",
        "image_batch, labels_batch = next(iter(normalized_ds))\n",
        "first_image = image_batch[0]\n",
        "num_classes = len(class_names)\n",
        "\n",
        "model = Sequential([\n",
        "  layers.Rescaling(1./255, input_shape=(img_height, img_width, 3)),\n",
        "  layers.Conv2D(16, 3, padding='same', activation='relu'),\n",
        "  layers.MaxPooling2D(),\n",
        "  layers.Conv2D(32, 3, padding='same', activation='relu'),\n",
        "  layers.MaxPooling2D(),\n",
        "  layers.Conv2D(64, 3, padding='same', activation='relu'),\n",
        "  layers.MaxPooling2D(),\n",
        "  layers.Flatten(),\n",
        "  layers.Dense(128, activation='relu'),\n",
        "  layers.Dense(num_classes)\n",
        "])\n",
        "\n",
        "print(np.min(first_image), np.max(first_image))"
      ],
      "metadata": {
        "colab": {
          "base_uri": "https://localhost:8080/"
        },
        "id": "jOKMuX7LzKh0",
        "outputId": "b08ba39b-32d4-405c-b00f-0fc0114477c9"
      },
      "execution_count": 29,
      "outputs": [
        {
          "output_type": "stream",
          "name": "stdout",
          "text": [
            "0.0 1.0\n"
          ]
        }
      ]
    },
    {
      "cell_type": "code",
      "source": [
        "model.compile(optimizer='adam',\n",
        "              loss=tf.keras.losses.SparseCategoricalCrossentropy(from_logits=True),\n",
        "              metrics=['accuracy'])\n",
        "model.summary()"
      ],
      "metadata": {
        "colab": {
          "base_uri": "https://localhost:8080/"
        },
        "id": "Hh_IS7L-zP8G",
        "outputId": "2e18c29f-0a65-4364-c240-883be8e8512a"
      },
      "execution_count": 31,
      "outputs": [
        {
          "output_type": "stream",
          "name": "stdout",
          "text": [
            "Model: \"sequential\"\n",
            "_________________________________________________________________\n",
            " Layer (type)                Output Shape              Param #   \n",
            "=================================================================\n",
            " rescaling_3 (Rescaling)     (None, 224, 224, 3)       0         \n",
            "                                                                 \n",
            " conv2d (Conv2D)             (None, 224, 224, 16)      448       \n",
            "                                                                 \n",
            " max_pooling2d (MaxPooling2D  (None, 112, 112, 16)     0         \n",
            " )                                                               \n",
            "                                                                 \n",
            " conv2d_1 (Conv2D)           (None, 112, 112, 32)      4640      \n",
            "                                                                 \n",
            " max_pooling2d_1 (MaxPooling  (None, 56, 56, 32)       0         \n",
            " 2D)                                                             \n",
            "                                                                 \n",
            " conv2d_2 (Conv2D)           (None, 56, 56, 64)        18496     \n",
            "                                                                 \n",
            " max_pooling2d_2 (MaxPooling  (None, 28, 28, 64)       0         \n",
            " 2D)                                                             \n",
            "                                                                 \n",
            " flatten (Flatten)           (None, 50176)             0         \n",
            "                                                                 \n",
            " dense (Dense)               (None, 128)               6422656   \n",
            "                                                                 \n",
            " dense_1 (Dense)             (None, 151)               19479     \n",
            "                                                                 \n",
            "=================================================================\n",
            "Total params: 6,465,719\n",
            "Trainable params: 6,465,719\n",
            "Non-trainable params: 0\n",
            "_________________________________________________________________\n"
          ]
        }
      ]
    },
    {
      "cell_type": "code",
      "source": [
        "epochs=10\n",
        "history = model.fit(\n",
        "  train_ds,\n",
        "  validation_data=val_ds,\n",
        "  epochs=epochs\n",
        ")"
      ],
      "metadata": {
        "colab": {
          "base_uri": "https://localhost:8080/"
        },
        "id": "BskUkfZ8zpA8",
        "outputId": "1cdd2f7b-15ac-43d0-92f7-59a0ee18a64f"
      },
      "execution_count": 32,
      "outputs": [
        {
          "output_type": "stream",
          "name": "stdout",
          "text": [
            "Epoch 1/10\n",
            "157/157 [==============================] - 370s 2s/step - loss: 4.8672 - accuracy: 0.0181 - val_loss: 4.6589 - val_accuracy: 0.0327\n",
            "Epoch 2/10\n",
            "157/157 [==============================] - 365s 2s/step - loss: 4.3420 - accuracy: 0.0785 - val_loss: 4.2448 - val_accuracy: 0.0973\n",
            "Epoch 3/10\n",
            "157/157 [==============================] - 364s 2s/step - loss: 3.7498 - accuracy: 0.1625 - val_loss: 3.9160 - val_accuracy: 0.1380\n",
            "Epoch 4/10\n",
            "157/157 [==============================] - 366s 2s/step - loss: 3.0171 - accuracy: 0.2899 - val_loss: 3.7989 - val_accuracy: 0.1683\n",
            "Epoch 5/10\n",
            "157/157 [==============================] - 355s 2s/step - loss: 2.1130 - accuracy: 0.4673 - val_loss: 4.0788 - val_accuracy: 0.1818\n",
            "Epoch 6/10\n",
            "157/157 [==============================] - 329s 2s/step - loss: 1.1513 - accuracy: 0.6926 - val_loss: 4.8968 - val_accuracy: 0.1746\n",
            "Epoch 7/10\n",
            "157/157 [==============================] - 332s 2s/step - loss: 0.4643 - accuracy: 0.8760 - val_loss: 5.6703 - val_accuracy: 0.1850\n",
            "Epoch 8/10\n",
            "157/157 [==============================] - 326s 2s/step - loss: 0.2200 - accuracy: 0.9416 - val_loss: 6.7018 - val_accuracy: 0.1571\n",
            "Epoch 9/10\n",
            "157/157 [==============================] - 346s 2s/step - loss: 0.0928 - accuracy: 0.9763 - val_loss: 7.3260 - val_accuracy: 0.1707\n",
            "Epoch 10/10\n",
            "157/157 [==============================] - 344s 2s/step - loss: 0.0762 - accuracy: 0.9799 - val_loss: 7.7914 - val_accuracy: 0.1722\n"
          ]
        }
      ]
    },
    {
      "cell_type": "code",
      "source": [
        "acc = history.history['accuracy']\n",
        "val_acc = history.history['val_accuracy']\n",
        "loss = history.history['loss']\n",
        "val_loss = history.history['val_loss']\n",
        "\n",
        "epochs_range = range(epochs)\n",
        "\n",
        "plt.figure(figsize=(8, 8))\n",
        "plt.subplot(1, 2, 1)\n",
        "plt.plot(epochs_range, acc, label='Training Accuracy')\n",
        "plt.plot(epochs_range, val_acc, label='Validation Accuracy')\n",
        "plt.legend(loc='lower right')\n",
        "plt.title('Training and Validation Accuracy')\n",
        "\n",
        "plt.subplot(1, 2, 2)\n",
        "plt.plot(epochs_range, loss, label='Training Loss')\n",
        "plt.plot(epochs_range, val_loss, label='Validation Loss')\n",
        "plt.legend(loc='upper right')\n",
        "plt.title('Training and Validation Loss')\n",
        "plt.show()"
      ],
      "metadata": {
        "colab": {
          "base_uri": "https://localhost:8080/",
          "height": 699
        },
        "id": "E5GZKWYCzxEv",
        "outputId": "5765bdd1-7736-4324-bee9-cd0788eeea31"
      },
      "execution_count": 33,
      "outputs": [
        {
          "output_type": "display_data",
          "data": {
            "text/plain": [
              "<Figure size 800x800 with 2 Axes>"
            ],
            "image/png": "[encoded data removed]"
          },
          "metadata": {}
        }
      ]
    },
    {
      "cell_type": "code",
      "source": [
        "!pip install pyyaml h5py"
      ],
      "metadata": {
        "colab": {
          "base_uri": "https://localhost:8080/"
        },
        "id": "vR6h9-dnCCcx",
        "outputId": "53a19cf3-b66b-44a3-934b-956b4f77b3b0"
      },
      "execution_count": 34,
      "outputs": [
        {
          "output_type": "stream",
          "name": "stdout",
          "text": [
            "Looking in indexes: https://pypi.org/simple, https://us-python.pkg.dev/colab-wheels/public/simple/\n",
            "Requirement already satisfied: pyyaml in /usr/local/lib/python3.10/dist-packages (6.0)\n",
            "Requirement already satisfied: h5py in /usr/local/lib/python3.10/dist-packages (3.8.0)\n",
            "Requirement already satisfied: numpy>=1.14.5 in /usr/local/lib/python3.10/dist-packages (from h5py) (1.22.4)\n"
          ]
        }
      ]
    },
    {
      "cell_type": "code",
      "source": [
        "model.save('animal_classification_model.h5')"
      ],
      "metadata": {
        "id": "im6NvETECV_4"
      },
      "execution_count": 35,
      "outputs": []
    },
    {
      "cell_type": "code",
      "source": [
        "path = \"/content/bison2.jpg\"\n",
        "img = tf.keras.utils.load_img(path, target_size=(img_height, img_width))\n",
        "img_array = tf.keras.utils.img_to_array(img)\n",
        "img_array = tf.expand_dims(img_array, 0)\n",
        "predictions = model.predict(img_array)\n",
        "score = tf.nn.softmax(predictions[0])\n",
        "print(\n",
        "    \"This image most likely belongs to {} with a {:.2f} percent confidence.\"\n",
        "    .format(class_names[np.argmax(score)], 100 * np.max(score))\n",
        ")"
      ],
      "metadata": {
        "colab": {
          "base_uri": "https://localhost:8080/"
        },
        "id": "PHoM8lPqIMrQ",
        "outputId": "76b204bd-1676-43d6-ed20-6932d3b0a282"
      },
      "execution_count": 47,
      "outputs": [
        {
          "output_type": "stream",
          "name": "stdout",
          "text": [
            "1/1 [==============================] - 0s 48ms/step\n",
            "This image most likely belongs to bison-bison with a 85.48 percent confidence.\n"
          ]
        }
      ]
    },
    {
      "cell_type": "code",
      "source": [],
      "metadata": {
        "id": "3KM9SU_gImRS"
      },
      "execution_count": null,
      "outputs": []
    }
  ]
}