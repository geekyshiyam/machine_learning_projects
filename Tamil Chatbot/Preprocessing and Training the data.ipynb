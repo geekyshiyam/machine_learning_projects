{
 "cells": [
  {
   "cell_type": "code",
   "execution_count": null,
   "id": "f647350f",
   "metadata": {},
   "outputs": [],
   "source": [
    "print(\"Loading Libraries...\")\n",
    "import nltk\n",
    "nltk.download('punkt')\n",
    "from nltk.stem import PorterStemmer\n",
    "stemmer = PorterStemmer()\n",
    "import tensorflow as tf\n",
    "import numpy as np\n",
    "import random\n",
    "import json\n",
    "print(\"Loading the Dataset...\")\n",
    "with open('tamil_intents_transports.json') as json_data:\n",
    "    intents = json.load(json_data)\n",
    "words = []\n",
    "classes = []\n",
    "documents = []\n",
    "ignore = ['!']\n",
    "print(\"Data Preprocessing...\")\n",
    "for intent in intents['intents']:\n",
    "    for pattern in intent['patterns']:\n",
    "        w = nltk.word_tokenize(pattern)\n",
    "        words.extend(w)\n",
    "        documents.append((w, intent['tag']))\n",
    "        if intent['tag'] not in classes:\n",
    "            classes.append(intent['tag'])\n",
    "words = [stemmer.stem(w.lower()) for w in words if w not in ignore]\n",
    "words = sorted(list(set(words)))\n",
    "classes = sorted(list(set(classes)))\n",
    "training = []\n",
    "output = []\n",
    "output_empty = [0] * len(classes)\n",
    "print(\"Training the Model...\")\n",
    "for doc in documents:\n",
    "    bag = []\n",
    "    pattern_words = doc[0]\n",
    "    pattern_words = [stemmer.stem(word.lower()) for word in pattern_words]\n",
    "    for w in words:\n",
    "        bag.append(1) if w in pattern_words else bag.append(0)\n",
    "    output_row = list(output_empty)\n",
    "    output_row[classes.index(doc[1])] = 1\n",
    "    training.append([bag, output_row])\n",
    "random.shuffle(training)\n",
    "training = np.array(training, dtype = object)\n",
    "train_x = list(training[:,0])\n",
    "train_y = list(training[:,1])\n",
    "model = tf.keras.Sequential()\n",
    "model.add(tf.keras.layers.Dense(10,input_shape=(len(train_x[0]),)))\n",
    "model.add(tf.keras.layers.Dense(10))\n",
    "model.add(tf.keras.layers.Dense(len(train_y[0]), activation='softmax'))\n",
    "model.compile(tf.keras.optimizers.Adam(), loss='categorical_crossentropy', metrics=['accuracy']) \n",
    "model.fit(np.array(train_x), np.array(train_y), epochs=1000, batch_size=10, verbose=0)\n",
    "model.save(\"model.pkl\")\n",
    "import pickle\n",
    "pickle.dump( {'words':words, 'classes':classes}, open( \"training_data\", \"wb\" ) )\n",
    "print(\"Model Created Successfully...\")"
   ]
  },
  {
   "cell_type": "code",
   "execution_count": null,
   "id": "e1d31db6",
   "metadata": {},
   "outputs": [],
   "source": []
  }
 ],
 "metadata": {
  "kernelspec": {
   "display_name": "Python 3 (ipykernel)",
   "language": "python",
   "name": "python3"
  },
  "language_info": {
   "codemirror_mode": {
    "name": "ipython",
    "version": 3
   },
   "file_extension": ".py",
   "mimetype": "text/x-python",
   "name": "python",
   "nbconvert_exporter": "python",
   "pygments_lexer": "ipython3",
   "version": "3.8.10"
  }
 },
 "nbformat": 4,
 "nbformat_minor": 5
}
